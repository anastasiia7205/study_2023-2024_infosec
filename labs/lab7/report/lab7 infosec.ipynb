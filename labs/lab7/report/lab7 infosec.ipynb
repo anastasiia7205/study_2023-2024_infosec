{
 "cells": [
  {
   "cell_type": "code",
   "execution_count": 18,
   "id": "86e0e4e6",
   "metadata": {},
   "outputs": [],
   "source": [
    "import random\n",
    "import string\n",
    "\n",
    "\n",
    "def generate_key(message_length):\n",
    "    return [random.choice(string.ascii_letters + string.digits) for _ in range(message_length)]\n",
    "\n",
    "def encrypt_decrypt(text, key):\n",
    "    if len(text) != len(key): return \"Ключ и сообщение разной длины\" \n",
    "    xor_text = ''\n",
    "    for i in range(len(text)):\n",
    "        xor_symbol = ord(text[i]) ^ ord(key[i])\n",
    "        xor_text += chr(xor_symbol)\n",
    "    return xor_text\n",
    "\n",
    "message = \"С Новым Годом, друзья!\"\n",
    "key = generate_key(len(message))\n",
    "print(key)\n",
    "\n",
    "encrypted_messge = encrypt_decrypt(message, key)\n",
    "encrypt_decrypt(encrypted_messge, key)"
   ]
  },
  {
   "cell_type": "code",
   "execution_count": 34,
   "id": "8b95ff98",
   "metadata": {},
   "outputs": [],
   "source": [
    "def generate_key(message_length):\n",
    "    return [random.choice(string.ascii_letters + string.digits) for _ in range(message_length)]"
   ]
  },
  {
   "cell_type": "code",
   "execution_count": 37,
   "id": "414eb5c4",
   "metadata": {},
   "outputs": [],
   "source": [
    "def encrypt_decrypt(text, key):\n",
    "    if len(text) != len(key): return \"Ключ и сообщение разной длины\" \n",
    "    xor_text = ''\n",
    "    for i in range(len(text)):\n",
    "        xor_symbol = ord(text[i]) ^ ord(key[i])\n",
    "        xor_text += chr(xor_symbol)\n",
    "    return xor_text"
   ]
  },
  {
   "cell_type": "code",
   "execution_count": 45,
   "id": "24eeed12",
   "metadata": {},
   "outputs": [
    {
     "name": "stdout",
     "output_type": "stream",
     "text": [
      "['T', '8', 's', 'J', 'f', '2', 's', 'h', 'k', 'Z', '1', '9', 'J', 'e', 'o', 'W', '2', 'k', '3', '4', 'b', '3']\n"
     ]
    }
   ],
   "source": [
    "message = \"С Новым Годом, друзья!\"\n",
    "key = generate_key(len(message))\n",
    "print(key)"
   ]
  },
  {
   "cell_type": "code",
   "execution_count": 46,
   "id": "faf2cad6",
   "metadata": {},
   "outputs": [
    {
     "data": {
      "text/plain": [
       "'ѵ\\x18ѮѴєѹяHѸѤЅЇѶIOѣѲШЄѸЭ\\x12'"
      ]
     },
     "execution_count": 46,
     "metadata": {},
     "output_type": "execute_result"
    }
   ],
   "source": [
    "encrypted_messge = encrypt_decrypt(message, key)\n",
    "encrypted_messge"
   ]
  },
  {
   "cell_type": "code",
   "execution_count": 47,
   "id": "d09efa2f",
   "metadata": {},
   "outputs": [
    {
     "data": {
      "text/plain": [
       "'С Новым Годом, друзья!'"
      ]
     },
     "execution_count": 47,
     "metadata": {},
     "output_type": "execute_result"
    }
   ],
   "source": [
    "encrypt_decrypt(encrypted_messge, key)"
   ]
  },
  {
   "cell_type": "code",
   "execution_count": null,
   "id": "efe0df15",
   "metadata": {},
   "outputs": [],
   "source": []
  }
 ],
 "metadata": {
  "kernelspec": {
   "display_name": "Python 3 (ipykernel)",
   "language": "python",
   "name": "python3"
  },
  "language_info": {
   "codemirror_mode": {
    "name": "ipython",
    "version": 3
   },
   "file_extension": ".py",
   "mimetype": "text/x-python",
   "name": "python",
   "nbconvert_exporter": "python",
   "pygments_lexer": "ipython3",
   "version": "3.10.7"
  }
 },
 "nbformat": 4,
 "nbformat_minor": 5
}
